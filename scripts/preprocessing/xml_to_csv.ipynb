{
 "metadata": {
  "language_info": {
   "codemirror_mode": {
    "name": "ipython",
    "version": 3
   },
   "file_extension": ".py",
   "mimetype": "text/x-python",
   "name": "python",
   "nbconvert_exporter": "python",
   "pygments_lexer": "ipython3",
   "version": "3.9.6"
  },
  "orig_nbformat": 4,
  "kernelspec": {
   "name": "python3",
   "display_name": "Python 3.9.6 64-bit"
  },
  "interpreter": {
   "hash": "8f7f0518cd7fcc285424e80a7910436f5656b321296a1fc835bcfb7ee6ed48f4"
  }
 },
 "nbformat": 4,
 "nbformat_minor": 2,
 "cells": [
  {
   "cell_type": "code",
   "execution_count": 15,
   "metadata": {},
   "outputs": [],
   "source": [
    "import os\n",
    "import glob\n",
    "import pandas as pd\n",
    "import xml.etree.ElementTree as ET"
   ]
  },
  {
   "cell_type": "code",
   "execution_count": 20,
   "metadata": {},
   "outputs": [],
   "source": [
    "def main():\n",
    "    for directory in ['train', 'test']:\n",
    "        image_path = os.path.join(os.getcwd(), 'E:/Tensorflow/workplace/training_demo/images/{}'.format(directory))\n",
    "        xml_df = xml_to_csv(image_path)\n",
    "        xml_df.to_csv('E:/Tensorflow/workplace/training_demo/images/csv/{}_labels.csv'.format(directory), index=None)\n",
    "        print('Successfully converted xml to csv.')"
   ]
  },
  {
   "cell_type": "code",
   "execution_count": 21,
   "metadata": {},
   "outputs": [],
   "source": [
    "def xml_to_csv(path):\n",
    "    xml_list = []\n",
    "    for xml_file in glob.glob(path + '/*.xml'):\n",
    "        tree = ET.parse(xml_file)\n",
    "        root = tree.getroot()\n",
    "        for member in root.findall('object'):\n",
    "            value = (root.find('filename').text,\n",
    "                     int(root.find('size')[0].text),\n",
    "                     int(root.find('size')[1].text),\n",
    "                     member[0].text,\n",
    "                     int(member[5][0].text),\n",
    "                     int(member[5][1].text),\n",
    "                     int(member[5][2].text),\n",
    "                     int(member[5][3].text)\n",
    "                     )\n",
    "            xml_list.append(value)\n",
    "    column_name = ['filename', 'width', 'height', 'class', 'xmin', 'ymin', 'xmax', 'ymax']\n",
    "    xml_df = pd.DataFrame(xml_list, columns=column_name)\n",
    "    return xml_df"
   ]
  },
  {
   "cell_type": "code",
   "execution_count": 22,
   "metadata": {},
   "outputs": [
    {
     "output_type": "execute_result",
     "data": {
      "text/plain": [
       "                                              filename  width  height  \\\n",
       "0    %2320+Bacterial+Spot+and+Speck_jpg.rf.56abfa1b...    416     416   \n",
       "1     0000_jpg.rf.7bf8d4c69ad253ee55c87d6e78d1ae28.jpg    416     416   \n",
       "2      000_jpg.rf.79b07e9657b862eca6972264b5e2fe0c.jpg    416     416   \n",
       "3     00pe_jpg.rf.42b93f15a0cec3a936d3a236bf71c5a8.jpg    416     416   \n",
       "4       00_jpg.rf.7fa2b9652948e8c39a51a68ec5c6b70a.jpg    416     416   \n",
       "..                                                 ...    ...     ...   \n",
       "449  why-are-my-pepper-plants-yellow-yellow-pepper-...    416     416   \n",
       "450  why-are-my-pepper-plants-yellow-yellow-pepper-...    416     416   \n",
       "451  wild-strawberry-leaf-top-view-rotated-KTBXCY_j...    416     416   \n",
       "452  wild-strawberry-leaf-top-view-rotated-KTBXCY_j...    416     416   \n",
       "453  wild-strawberry-leaf-top-view-rotated-KTBXCY_j...    416     416   \n",
       "\n",
       "                          class  xmin  ymin  xmax  ymax  \n",
       "0    Tomato leaf bacterial spot    26   178   113   229  \n",
       "1                    grape leaf     1   391    11   391  \n",
       "2         Bell_pepper leaf spot   102   383     1   401  \n",
       "3                    Peach leaf    24   404    16   304  \n",
       "4         Bell_pepper leaf spot    76   363    30   299  \n",
       "..                          ...   ...   ...   ...   ...  \n",
       "449            Bell_pepper leaf    77   379   134   415  \n",
       "450            Bell_pepper leaf     5   189    81   292  \n",
       "451             Strawberry leaf   173   356   157   290  \n",
       "452             Strawberry leaf   160   281    62   171  \n",
       "453             Strawberry leaf    84   200   143   322  \n",
       "\n",
       "[454 rows x 8 columns]"
      ],
      "text/html": "<div>\n<style scoped>\n    .dataframe tbody tr th:only-of-type {\n        vertical-align: middle;\n    }\n\n    .dataframe tbody tr th {\n        vertical-align: top;\n    }\n\n    .dataframe thead th {\n        text-align: right;\n    }\n</style>\n<table border=\"1\" class=\"dataframe\">\n  <thead>\n    <tr style=\"text-align: right;\">\n      <th></th>\n      <th>filename</th>\n      <th>width</th>\n      <th>height</th>\n      <th>class</th>\n      <th>xmin</th>\n      <th>ymin</th>\n      <th>xmax</th>\n      <th>ymax</th>\n    </tr>\n  </thead>\n  <tbody>\n    <tr>\n      <th>0</th>\n      <td>%2320+Bacterial+Spot+and+Speck_jpg.rf.56abfa1b...</td>\n      <td>416</td>\n      <td>416</td>\n      <td>Tomato leaf bacterial spot</td>\n      <td>26</td>\n      <td>178</td>\n      <td>113</td>\n      <td>229</td>\n    </tr>\n    <tr>\n      <th>1</th>\n      <td>0000_jpg.rf.7bf8d4c69ad253ee55c87d6e78d1ae28.jpg</td>\n      <td>416</td>\n      <td>416</td>\n      <td>grape leaf</td>\n      <td>1</td>\n      <td>391</td>\n      <td>11</td>\n      <td>391</td>\n    </tr>\n    <tr>\n      <th>2</th>\n      <td>000_jpg.rf.79b07e9657b862eca6972264b5e2fe0c.jpg</td>\n      <td>416</td>\n      <td>416</td>\n      <td>Bell_pepper leaf spot</td>\n      <td>102</td>\n      <td>383</td>\n      <td>1</td>\n      <td>401</td>\n    </tr>\n    <tr>\n      <th>3</th>\n      <td>00pe_jpg.rf.42b93f15a0cec3a936d3a236bf71c5a8.jpg</td>\n      <td>416</td>\n      <td>416</td>\n      <td>Peach leaf</td>\n      <td>24</td>\n      <td>404</td>\n      <td>16</td>\n      <td>304</td>\n    </tr>\n    <tr>\n      <th>4</th>\n      <td>00_jpg.rf.7fa2b9652948e8c39a51a68ec5c6b70a.jpg</td>\n      <td>416</td>\n      <td>416</td>\n      <td>Bell_pepper leaf spot</td>\n      <td>76</td>\n      <td>363</td>\n      <td>30</td>\n      <td>299</td>\n    </tr>\n    <tr>\n      <th>...</th>\n      <td>...</td>\n      <td>...</td>\n      <td>...</td>\n      <td>...</td>\n      <td>...</td>\n      <td>...</td>\n      <td>...</td>\n      <td>...</td>\n    </tr>\n    <tr>\n      <th>449</th>\n      <td>why-are-my-pepper-plants-yellow-yellow-pepper-...</td>\n      <td>416</td>\n      <td>416</td>\n      <td>Bell_pepper leaf</td>\n      <td>77</td>\n      <td>379</td>\n      <td>134</td>\n      <td>415</td>\n    </tr>\n    <tr>\n      <th>450</th>\n      <td>why-are-my-pepper-plants-yellow-yellow-pepper-...</td>\n      <td>416</td>\n      <td>416</td>\n      <td>Bell_pepper leaf</td>\n      <td>5</td>\n      <td>189</td>\n      <td>81</td>\n      <td>292</td>\n    </tr>\n    <tr>\n      <th>451</th>\n      <td>wild-strawberry-leaf-top-view-rotated-KTBXCY_j...</td>\n      <td>416</td>\n      <td>416</td>\n      <td>Strawberry leaf</td>\n      <td>173</td>\n      <td>356</td>\n      <td>157</td>\n      <td>290</td>\n    </tr>\n    <tr>\n      <th>452</th>\n      <td>wild-strawberry-leaf-top-view-rotated-KTBXCY_j...</td>\n      <td>416</td>\n      <td>416</td>\n      <td>Strawberry leaf</td>\n      <td>160</td>\n      <td>281</td>\n      <td>62</td>\n      <td>171</td>\n    </tr>\n    <tr>\n      <th>453</th>\n      <td>wild-strawberry-leaf-top-view-rotated-KTBXCY_j...</td>\n      <td>416</td>\n      <td>416</td>\n      <td>Strawberry leaf</td>\n      <td>84</td>\n      <td>200</td>\n      <td>143</td>\n      <td>322</td>\n    </tr>\n  </tbody>\n</table>\n<p>454 rows × 8 columns</p>\n</div>"
     },
     "metadata": {},
     "execution_count": 22
    }
   ],
   "source": [
    "#Test\n",
    "image_path = 'E:/Tensorflow/workplace/training_demo/images/test'\n",
    "xml_df = xml_to_csv(image_path)\n",
    "xml_df"
   ]
  },
  {
   "cell_type": "code",
   "execution_count": 23,
   "metadata": {},
   "outputs": [
    {
     "output_type": "stream",
     "name": "stdout",
     "text": [
      "Successfully converted xml to csv.\nSuccessfully converted xml to csv.\n"
     ]
    }
   ],
   "source": [
    "main()"
   ]
  },
  {
   "cell_type": "code",
   "execution_count": null,
   "metadata": {},
   "outputs": [],
   "source": []
  }
 ]
}